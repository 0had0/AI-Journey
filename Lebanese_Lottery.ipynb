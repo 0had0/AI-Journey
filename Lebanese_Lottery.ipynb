{
  "cells": [
    {
      "cell_type": "markdown",
      "metadata": {
        "id": "view-in-github",
        "colab_type": "text"
      },
      "source": [
        "<a href=\"https://colab.research.google.com/github/0had0/AI-Journey/blob/main/Lebanese_Lottery.ipynb\" target=\"_parent\"><img src=\"https://colab.research.google.com/assets/colab-badge.svg\" alt=\"Open In Colab\"/></a>"
      ]
    },
    {
      "cell_type": "markdown",
      "metadata": {
        "id": "HyBGubo2zDeW"
      },
      "source": [
        "# MultiThread Scrapper"
      ]
    },
    {
      "cell_type": "code",
      "execution_count": 1,
      "metadata": {
        "id": "JRSrn6xTzGzq"
      },
      "outputs": [],
      "source": [
        "from bs4 import BeautifulSoup as soup\n",
        "from urllib.request import urlopen as uReq\n",
        "from urllib.request import Request, urlopen\n",
        "import pandas as pd\n",
        "from multiprocessing.pool import ThreadPool\n",
        "import numpy as np\n",
        "import seaborn as sns\n",
        "import matplotlib.patches as mpatches\n",
        "import matplotlib.pyplot as plt\n",
        "from datetime import datetime, timedelta, date\n",
        "\n",
        "sns.set(rc={'figure.figsize':(11,8)})\n",
        "sns.color_palette(\"rocket\")\n",
        "\n",
        "pd.set_option('display.max_rows', 20)\n",
        "pd.set_option('display.max_columns', 20)\n",
        "pd.set_option('display.width', 1000)\n",
        "\n",
        "plt.rcParams[\"axes.grid\"] = False"
      ]
    },
    {
      "cell_type": "code",
      "execution_count": 2,
      "metadata": {
        "id": "BH3T63Q3zF5a"
      },
      "outputs": [],
      "source": [
        "def df_loops(index):\n",
        "  my_url = 'https://www.lldj.com/en/LatestResults/Loto?draw='+str(index)\n",
        "\n",
        "  req = Request(my_url, headers={'User-Agent': 'Mozilla/5.0'})\n",
        "  uClient = uReq(req)\n",
        "  page_html = uClient.read()\n",
        "  uClient.close()\n",
        "\n",
        "  page_soup = soup(page_html, \"html.parser\")\n",
        "  draw_info = page_soup.findAll(\"span\",{\"class\":\"yellow\"})\n",
        "  draw_date = draw_info[0].text\n",
        "  draw_date = draw_date.split(\" \")\n",
        "  draw_date = draw_date[3]\n",
        "  draw_date = draw_date.split(\"/\")\n",
        "  draw_jackpot = draw_info[1].text\n",
        "  day = draw_date[0]\n",
        "  month = draw_date[1]\n",
        "  year = draw_date[2]\n",
        "  loto_balls_container = page_soup.findAll(\"ul\",{\"class\":\"list ballslist pseudoclear\"})\n",
        "  loto_balls = loto_balls_container[0].find_all(\"li\")\n",
        "    \n",
        "  row = {\n",
        "      'Draw Number': index,\n",
        "      'Date': year + \"-\" + month + \"-\" + day,\n",
        "      'Jackpot': draw_jackpot,\n",
        "      'Ball 1': loto_balls[0].text,\n",
        "      'Ball 2': loto_balls[1].text,\n",
        "      'Ball 3': loto_balls[2].text,\n",
        "      'Ball 4': loto_balls[3].text,\n",
        "      'Ball 5': loto_balls[4].text,\n",
        "      'Ball 6': loto_balls[5].text,\n",
        "      'Extra Ball': loto_balls[6].text,\n",
        "  }\n",
        "\n",
        "  return pd.Series(row)"
      ]
    },
    {
      "cell_type": "code",
      "execution_count": 3,
      "metadata": {
        "id": "-oUJPNxXzPTT"
      },
      "outputs": [],
      "source": [
        "def get_max_index():\n",
        "  loto_url = 'https://www.lldj.com/en/LatestResults/Loto'\n",
        "\n",
        "  req = Request(loto_url, headers={'User-Agent': 'Mozilla/5.0'})\n",
        "  uClient = uReq(req)\n",
        "  page_html = uClient.read()\n",
        "  uClient.close()\n",
        "\n",
        "  page_soup = soup(page_html, \"html.parser\")\n",
        "  draw_info = page_soup.find(\"input\",{\"id\":\"resultdateinput\"})\n",
        "\n",
        "  return int(draw_info['value'])"
      ]
    },
    {
      "cell_type": "code",
      "execution_count": 4,
      "metadata": {
        "id": "xX1JVePa1hjH"
      },
      "outputs": [],
      "source": [
        "CONFIG = {\n",
        "    'THREAD_COUNT': 300\n",
        "}"
      ]
    },
    {
      "cell_type": "code",
      "execution_count": 5,
      "metadata": {
        "id": "rMP7J7CStN1P"
      },
      "outputs": [],
      "source": [
        "def main(CONFIG=CONFIG):\n",
        "  THREAD_COUNT = CONFIG['THREAD_COUNT']\n",
        "\n",
        "  draws = get_max_index()\n",
        "\n",
        "  loto_scrap = pd.DataFrame(columns = ['Draw Number','Jackpot','Date',\"Ball 1\",\"Ball 2\",\"Ball 3\",\"Ball 4\",\"Ball 5\",\"Ball 6\",\"Extra Ball\"])\n",
        "\n",
        "  start_index = 1\n",
        "  \n",
        "  for end_index in range(THREAD_COUNT + 1, draws, THREAD_COUNT):\n",
        "    print(\"proccessing indexes [{}, {}]\".format(start_index, end_index))\n",
        "    with ThreadPool(THREAD_COUNT) as pool:\n",
        "      for result in pool.map(df_loops, list(range(start_index, end_index))):\n",
        "        loto_scrap = loto_scrap.append(result, ignore_index=True, sort=True)\n",
        "    start_index = end_index\n",
        "\n",
        "  if end_index is not draws:\n",
        "    print(\"proccessing indexes [{}, {}]\".format(end_index, draws))\n",
        "    with ThreadPool(draws - end_index) as pool:\n",
        "      for result in pool.map(df_loops, list(range(end_index, draws+1))):\n",
        "        loto_scrap = loto_scrap.append(result, ignore_index=True, sort=True)\n",
        "  \n",
        "  loto_scrap.to_csv('Loto_Scrap.csv',index = False)"
      ]
    },
    {
      "cell_type": "code",
      "execution_count": 6,
      "metadata": {
        "colab": {
          "base_uri": "https://localhost:8080/"
        },
        "id": "ZY_e3OAJ0pMu",
        "outputId": "9aba9216-623d-43e3-ab59-7c03d5b69122"
      },
      "outputs": [
        {
          "output_type": "stream",
          "name": "stdout",
          "text": [
            "proccessing indexes [1, 301]\n",
            "proccessing indexes [301, 601]\n",
            "proccessing indexes [601, 901]\n",
            "proccessing indexes [901, 1201]\n",
            "proccessing indexes [1201, 1501]\n",
            "proccessing indexes [1501, 1801]\n",
            "proccessing indexes [1801, 2045]\n"
          ]
        }
      ],
      "source": [
        "main()"
      ]
    },
    {
      "cell_type": "code",
      "execution_count": 7,
      "metadata": {
        "colab": {
          "base_uri": "https://localhost:8080/",
          "height": 423
        },
        "id": "n4HuS6cr4LC_",
        "outputId": "5f37d66a-3de9-4a8e-9a2f-a2381f5e8182"
      },
      "outputs": [
        {
          "output_type": "execute_result",
          "data": {
            "text/plain": [
              "      Ball 1  Ball 2  Ball 3  Ball 4  Ball 5  Ball 6        Date  Draw Number  Extra Ball              Jackpot\n",
              "0          7      25      11       8      20      32  2002-09-12            1          30               LBP 0 \n",
              "1          5      19      13      42      21      28  2002-09-19            2          35               LBP 0 \n",
              "2          4      10      18      35      36      38  2002-09-26            3          21               LBP 0 \n",
              "3          8      16      17      23      29      32  2002-10-03            4           7   LBP 1,646,303,753 \n",
              "4          4       7      10      16      27      41  2002-10-10            5          12               LBP 0 \n",
              "...      ...     ...     ...     ...     ...     ...         ...          ...         ...                  ...\n",
              "2040       3      15      18      20      35      38  2022-09-19         2041          12   LBP 9,272,679,975 \n",
              "2041       1       9      19      22      36      37  2022-09-22         2042          25   LBP 9,908,779,320 \n",
              "2042       2      17      18      33      34      37  2022-09-26         2043          38  LBP 10,557,145,710 \n",
              "2043       5       9      14      32      33      34  2022-09-29         2044           8  LBP 11,206,518,525 \n",
              "2044       3       4       5      28      34      41  2022-10-03         2045          32  LBP 11,864,271,600 \n",
              "\n",
              "[2045 rows x 10 columns]"
            ],
            "text/html": [
              "\n",
              "  <div id=\"df-3381ffa0-d3d4-4e06-afff-ab96823707e2\">\n",
              "    <div class=\"colab-df-container\">\n",
              "      <div>\n",
              "<style scoped>\n",
              "    .dataframe tbody tr th:only-of-type {\n",
              "        vertical-align: middle;\n",
              "    }\n",
              "\n",
              "    .dataframe tbody tr th {\n",
              "        vertical-align: top;\n",
              "    }\n",
              "\n",
              "    .dataframe thead th {\n",
              "        text-align: right;\n",
              "    }\n",
              "</style>\n",
              "<table border=\"1\" class=\"dataframe\">\n",
              "  <thead>\n",
              "    <tr style=\"text-align: right;\">\n",
              "      <th></th>\n",
              "      <th>Ball 1</th>\n",
              "      <th>Ball 2</th>\n",
              "      <th>Ball 3</th>\n",
              "      <th>Ball 4</th>\n",
              "      <th>Ball 5</th>\n",
              "      <th>Ball 6</th>\n",
              "      <th>Date</th>\n",
              "      <th>Draw Number</th>\n",
              "      <th>Extra Ball</th>\n",
              "      <th>Jackpot</th>\n",
              "    </tr>\n",
              "  </thead>\n",
              "  <tbody>\n",
              "    <tr>\n",
              "      <th>0</th>\n",
              "      <td>7</td>\n",
              "      <td>25</td>\n",
              "      <td>11</td>\n",
              "      <td>8</td>\n",
              "      <td>20</td>\n",
              "      <td>32</td>\n",
              "      <td>2002-09-12</td>\n",
              "      <td>1</td>\n",
              "      <td>30</td>\n",
              "      <td>LBP 0</td>\n",
              "    </tr>\n",
              "    <tr>\n",
              "      <th>1</th>\n",
              "      <td>5</td>\n",
              "      <td>19</td>\n",
              "      <td>13</td>\n",
              "      <td>42</td>\n",
              "      <td>21</td>\n",
              "      <td>28</td>\n",
              "      <td>2002-09-19</td>\n",
              "      <td>2</td>\n",
              "      <td>35</td>\n",
              "      <td>LBP 0</td>\n",
              "    </tr>\n",
              "    <tr>\n",
              "      <th>2</th>\n",
              "      <td>4</td>\n",
              "      <td>10</td>\n",
              "      <td>18</td>\n",
              "      <td>35</td>\n",
              "      <td>36</td>\n",
              "      <td>38</td>\n",
              "      <td>2002-09-26</td>\n",
              "      <td>3</td>\n",
              "      <td>21</td>\n",
              "      <td>LBP 0</td>\n",
              "    </tr>\n",
              "    <tr>\n",
              "      <th>3</th>\n",
              "      <td>8</td>\n",
              "      <td>16</td>\n",
              "      <td>17</td>\n",
              "      <td>23</td>\n",
              "      <td>29</td>\n",
              "      <td>32</td>\n",
              "      <td>2002-10-03</td>\n",
              "      <td>4</td>\n",
              "      <td>7</td>\n",
              "      <td>LBP 1,646,303,753</td>\n",
              "    </tr>\n",
              "    <tr>\n",
              "      <th>4</th>\n",
              "      <td>4</td>\n",
              "      <td>7</td>\n",
              "      <td>10</td>\n",
              "      <td>16</td>\n",
              "      <td>27</td>\n",
              "      <td>41</td>\n",
              "      <td>2002-10-10</td>\n",
              "      <td>5</td>\n",
              "      <td>12</td>\n",
              "      <td>LBP 0</td>\n",
              "    </tr>\n",
              "    <tr>\n",
              "      <th>...</th>\n",
              "      <td>...</td>\n",
              "      <td>...</td>\n",
              "      <td>...</td>\n",
              "      <td>...</td>\n",
              "      <td>...</td>\n",
              "      <td>...</td>\n",
              "      <td>...</td>\n",
              "      <td>...</td>\n",
              "      <td>...</td>\n",
              "      <td>...</td>\n",
              "    </tr>\n",
              "    <tr>\n",
              "      <th>2040</th>\n",
              "      <td>3</td>\n",
              "      <td>15</td>\n",
              "      <td>18</td>\n",
              "      <td>20</td>\n",
              "      <td>35</td>\n",
              "      <td>38</td>\n",
              "      <td>2022-09-19</td>\n",
              "      <td>2041</td>\n",
              "      <td>12</td>\n",
              "      <td>LBP 9,272,679,975</td>\n",
              "    </tr>\n",
              "    <tr>\n",
              "      <th>2041</th>\n",
              "      <td>1</td>\n",
              "      <td>9</td>\n",
              "      <td>19</td>\n",
              "      <td>22</td>\n",
              "      <td>36</td>\n",
              "      <td>37</td>\n",
              "      <td>2022-09-22</td>\n",
              "      <td>2042</td>\n",
              "      <td>25</td>\n",
              "      <td>LBP 9,908,779,320</td>\n",
              "    </tr>\n",
              "    <tr>\n",
              "      <th>2042</th>\n",
              "      <td>2</td>\n",
              "      <td>17</td>\n",
              "      <td>18</td>\n",
              "      <td>33</td>\n",
              "      <td>34</td>\n",
              "      <td>37</td>\n",
              "      <td>2022-09-26</td>\n",
              "      <td>2043</td>\n",
              "      <td>38</td>\n",
              "      <td>LBP 10,557,145,710</td>\n",
              "    </tr>\n",
              "    <tr>\n",
              "      <th>2043</th>\n",
              "      <td>5</td>\n",
              "      <td>9</td>\n",
              "      <td>14</td>\n",
              "      <td>32</td>\n",
              "      <td>33</td>\n",
              "      <td>34</td>\n",
              "      <td>2022-09-29</td>\n",
              "      <td>2044</td>\n",
              "      <td>8</td>\n",
              "      <td>LBP 11,206,518,525</td>\n",
              "    </tr>\n",
              "    <tr>\n",
              "      <th>2044</th>\n",
              "      <td>3</td>\n",
              "      <td>4</td>\n",
              "      <td>5</td>\n",
              "      <td>28</td>\n",
              "      <td>34</td>\n",
              "      <td>41</td>\n",
              "      <td>2022-10-03</td>\n",
              "      <td>2045</td>\n",
              "      <td>32</td>\n",
              "      <td>LBP 11,864,271,600</td>\n",
              "    </tr>\n",
              "  </tbody>\n",
              "</table>\n",
              "<p>2045 rows × 10 columns</p>\n",
              "</div>\n",
              "      <button class=\"colab-df-convert\" onclick=\"convertToInteractive('df-3381ffa0-d3d4-4e06-afff-ab96823707e2')\"\n",
              "              title=\"Convert this dataframe to an interactive table.\"\n",
              "              style=\"display:none;\">\n",
              "        \n",
              "  <svg xmlns=\"http://www.w3.org/2000/svg\" height=\"24px\"viewBox=\"0 0 24 24\"\n",
              "       width=\"24px\">\n",
              "    <path d=\"M0 0h24v24H0V0z\" fill=\"none\"/>\n",
              "    <path d=\"M18.56 5.44l.94 2.06.94-2.06 2.06-.94-2.06-.94-.94-2.06-.94 2.06-2.06.94zm-11 1L8.5 8.5l.94-2.06 2.06-.94-2.06-.94L8.5 2.5l-.94 2.06-2.06.94zm10 10l.94 2.06.94-2.06 2.06-.94-2.06-.94-.94-2.06-.94 2.06-2.06.94z\"/><path d=\"M17.41 7.96l-1.37-1.37c-.4-.4-.92-.59-1.43-.59-.52 0-1.04.2-1.43.59L10.3 9.45l-7.72 7.72c-.78.78-.78 2.05 0 2.83L4 21.41c.39.39.9.59 1.41.59.51 0 1.02-.2 1.41-.59l7.78-7.78 2.81-2.81c.8-.78.8-2.07 0-2.86zM5.41 20L4 18.59l7.72-7.72 1.47 1.35L5.41 20z\"/>\n",
              "  </svg>\n",
              "      </button>\n",
              "      \n",
              "  <style>\n",
              "    .colab-df-container {\n",
              "      display:flex;\n",
              "      flex-wrap:wrap;\n",
              "      gap: 12px;\n",
              "    }\n",
              "\n",
              "    .colab-df-convert {\n",
              "      background-color: #E8F0FE;\n",
              "      border: none;\n",
              "      border-radius: 50%;\n",
              "      cursor: pointer;\n",
              "      display: none;\n",
              "      fill: #1967D2;\n",
              "      height: 32px;\n",
              "      padding: 0 0 0 0;\n",
              "      width: 32px;\n",
              "    }\n",
              "\n",
              "    .colab-df-convert:hover {\n",
              "      background-color: #E2EBFA;\n",
              "      box-shadow: 0px 1px 2px rgba(60, 64, 67, 0.3), 0px 1px 3px 1px rgba(60, 64, 67, 0.15);\n",
              "      fill: #174EA6;\n",
              "    }\n",
              "\n",
              "    [theme=dark] .colab-df-convert {\n",
              "      background-color: #3B4455;\n",
              "      fill: #D2E3FC;\n",
              "    }\n",
              "\n",
              "    [theme=dark] .colab-df-convert:hover {\n",
              "      background-color: #434B5C;\n",
              "      box-shadow: 0px 1px 3px 1px rgba(0, 0, 0, 0.15);\n",
              "      filter: drop-shadow(0px 1px 2px rgba(0, 0, 0, 0.3));\n",
              "      fill: #FFFFFF;\n",
              "    }\n",
              "  </style>\n",
              "\n",
              "      <script>\n",
              "        const buttonEl =\n",
              "          document.querySelector('#df-3381ffa0-d3d4-4e06-afff-ab96823707e2 button.colab-df-convert');\n",
              "        buttonEl.style.display =\n",
              "          google.colab.kernel.accessAllowed ? 'block' : 'none';\n",
              "\n",
              "        async function convertToInteractive(key) {\n",
              "          const element = document.querySelector('#df-3381ffa0-d3d4-4e06-afff-ab96823707e2');\n",
              "          const dataTable =\n",
              "            await google.colab.kernel.invokeFunction('convertToInteractive',\n",
              "                                                     [key], {});\n",
              "          if (!dataTable) return;\n",
              "\n",
              "          const docLinkHtml = 'Like what you see? Visit the ' +\n",
              "            '<a target=\"_blank\" href=https://colab.research.google.com/notebooks/data_table.ipynb>data table notebook</a>'\n",
              "            + ' to learn more about interactive tables.';\n",
              "          element.innerHTML = '';\n",
              "          dataTable['output_type'] = 'display_data';\n",
              "          await google.colab.output.renderOutput(dataTable, element);\n",
              "          const docLink = document.createElement('div');\n",
              "          docLink.innerHTML = docLinkHtml;\n",
              "          element.appendChild(docLink);\n",
              "        }\n",
              "      </script>\n",
              "    </div>\n",
              "  </div>\n",
              "  "
            ]
          },
          "metadata": {},
          "execution_count": 7
        }
      ],
      "source": [
        "lottery = pd.read_csv('Loto_Scrap.csv')\n",
        "lottery"
      ]
    },
    {
      "cell_type": "markdown",
      "source": [
        "# Analysis\n",
        "How can I increase my chance of wining?"
      ],
      "metadata": {
        "id": "wPWlf5JPkBXP"
      }
    },
    {
      "cell_type": "markdown",
      "source": [
        "### Even - Odd"
      ],
      "metadata": {
        "id": "dZvncjr3l5qu"
      }
    },
    {
      "cell_type": "code",
      "source": [
        "def getNumberOfEvenAndOdd(numbers):\n",
        "    countEven = 0\n",
        "    countOdd = 0\n",
        "    for number in numbers:\n",
        "        if number % 2 == 0:\n",
        "            countEven += 1\n",
        "        else:\n",
        "            countOdd += 1\n",
        "    return str(countEven) + \" Even, \" +str(countOdd) +\" Odd\"\n",
        "\n",
        "def visualizeEvenOddCombination():\n",
        "    even_odd = {}\n",
        "    numbers = []\n",
        "    \n",
        "    for index, draw in lottery.iterrows():\n",
        "            numbers.append(int(draw['Ball 1']))\n",
        "            numbers.append(int(draw['Ball 2']))\n",
        "            numbers.append(int(draw['Ball 3']))\n",
        "            numbers.append(int(draw['Ball 4']))\n",
        "            numbers.append(int(draw['Ball 5']))\n",
        "            numbers.append(int(draw['Ball 6']))\n",
        "            even_odd[getNumberOfEvenAndOdd(numbers)] = even_odd.get(getNumberOfEvenAndOdd(numbers), 0) + 1 \n",
        "            numbers = []\n",
        "    \n",
        "    even_odd_ser = pd.Series(even_odd)\n",
        "\n",
        "    labels = even_odd.keys()\n",
        "    sizes = list(even_odd.values())\n",
        "    sizes = [x / float(len(lottery)) * 100 for x in sizes]\n",
        "    explode = (0.1, 0, 0, 0, 0,0,0)\n",
        "    fig1, ax1 = plt.subplots(figsize=(15, 6))\n",
        "    colors = [\"#416fc4\", \"#48cfdf\", \"#48c4d6\", \"#41d6d3\", \"#5decd2\", \"#87fde8\",\"#b4f6eb\"]\n",
        "    ax1.pie(sizes, explode=explode, labels=labels,colors = colors, shadow=True)\n",
        "    plt.title(\"Even Odd Probabilities\")\n",
        "    plt.legend( loc = 'lower right', labels=['%s, %1.2f %%' % (l, s) for l, s in zip(labels, sizes)])\n",
        "    ax1.axis('equal')\n",
        "\n",
        "    \n",
        "\n",
        "visualizeEvenOddCombination()"
      ],
      "metadata": {
        "colab": {
          "base_uri": "https://localhost:8080/",
          "height": 373
        },
        "id": "9so01IrNktM1",
        "outputId": "2b0c9b0b-a26e-47cc-ef60-7af407a01097"
      },
      "execution_count": 35,
      "outputs": [
        {
          "output_type": "display_data",
          "data": {
            "text/plain": [
              "<Figure size 1080x432 with 1 Axes>"
            ],
            "image/png": "[encoded data removed]"
          },
          "metadata": {}
        }
      ]
    },
    {
      "cell_type": "markdown",
      "source": [
        "#### Analysis\n",
        "Around 33% of jackpots were formed from 3 even and 3 odd numbers.\n",
        "Picking 3 even 3 odds have higher chances to win"
      ],
      "metadata": {
        "id": "GG7kPGt0ntPy"
      }
    },
    {
      "cell_type": "markdown",
      "source": [
        "### Hight - Low\n",
        "- High numbers >= 22\n",
        "- Low numbers < 22"
      ],
      "metadata": {
        "id": "LkzMDQkul1lP"
      }
    },
    {
      "cell_type": "code",
      "source": [
        "def getNumberOfHighAndLow(numbers):\n",
        "    countHigh = 0\n",
        "    countLow = 0\n",
        "    for number in numbers:\n",
        "        if number >= 22:\n",
        "            countHigh += 1\n",
        "        else:\n",
        "            countLow += 1\n",
        "    return str(countHigh) + \" High, \" +str(countLow) +\" Low\"\n",
        "\n",
        "def visualizeHighLowCombination():\n",
        "    high_low = {}\n",
        "    numbers = []\n",
        "    for index, draw in lottery.iterrows():\n",
        "            numbers.append(int(draw['Ball 1']))\n",
        "            numbers.append(int(draw['Ball 2']))\n",
        "            numbers.append(int(draw['Ball 3']))\n",
        "            numbers.append(int(draw['Ball 4']))\n",
        "            numbers.append(int(draw['Ball 5']))\n",
        "            numbers.append(int(draw['Ball 6']))\n",
        "            high_low[getNumberOfHighAndLow(numbers)] = high_low.get(getNumberOfHighAndLow(numbers), 0) + 1 \n",
        "            numbers = []\n",
        "    high_low_ser = pd.Series(high_low)\n",
        "\n",
        "    labels = high_low.keys()\n",
        "    sizes = list(high_low.values())\n",
        "    sizes = [x / float(len(lottery)) * 100 for x in sizes]\n",
        "    explode = (0.0, 0.1, 0, 0, 0,0,0)\n",
        "    fig1, ax1 = plt.subplots(figsize=(15, 6))\n",
        "    colors = [\"#006F3F\", \"#006F4F\", \"#006F53\", \"#006753\", \"#007e65\", \"#0a9d80\",\"#81c6b8\"]\n",
        "    ax1.pie(sizes, explode=explode, labels=labels,colors = colors, shadow=True)\n",
        "    plt.title(\"High Low Probabilities\")\n",
        "    plt.legend( loc = 'lower right', labels=['%s, %1.2f %%' % (l, s) for l, s in zip(labels, sizes)])\n",
        "    ax1.axis('equal')\n",
        "\n",
        "    \n",
        "\n",
        "visualizeHighLowCombination()"
      ],
      "metadata": {
        "colab": {
          "base_uri": "https://localhost:8080/",
          "height": 373
        },
        "id": "keAA4f1tlqyP",
        "outputId": "009b27e1-2ad9-420e-ba94-18a7e3623bc9"
      },
      "execution_count": 36,
      "outputs": [
        {
          "output_type": "display_data",
          "data": {
            "text/plain": [
              "<Figure size 1080x432 with 1 Axes>"
            ],
            "image/png": "[encoded data removed]"
          },
          "metadata": {}
        }
      ]
    },
    {
      "cell_type": "markdown",
      "source": [
        "Around 33% of jackpots were formed from 3 high and 3 low numbers."
      ],
      "metadata": {
        "id": "8PP4uvzTn3KR"
      }
    },
    {
      "cell_type": "markdown",
      "source": [
        "### Summing values\n",
        "Steps to follow:\n",
        "\n",
        "- Calculate the mean of distribution for each ball\n",
        "- Find the sum of all means\n",
        "- Evaluate the % of jackpots where the balls' sum falls around the mean (+ or - 29)\n",
        "\n",
        "just divide the targets into two main parts: In Range & Out Of Range"
      ],
      "metadata": {
        "id": "9kLShtASm5uN"
      }
    },
    {
      "cell_type": "code",
      "source": [
        "def getMean(ball_dist):\n",
        "    mean = 0\n",
        "    allOcc = 0\n",
        "    for value in list(ball_dist.keys()):\n",
        "        for occ in list(ball_dist.values):\n",
        "            mean += value * occ\n",
        "            allOcc += occ\n",
        "    mean = mean/allOcc\n",
        "    return mean\n",
        "\n",
        "sumOfMeans = 0\n",
        "\n",
        "for i in range(1,7):\n",
        "    ball_dist = lottery['Ball ' +str(i)].value_counts().sort_index()\n",
        "    sumOfMeans += getMean(ball_dist)\n",
        "\n",
        "sumOfMeans = int(sumOfMeans)\n",
        "\n",
        "def isNumbersInRange(numbers):\n",
        "    sumOfNumbers = 0 \n",
        "    for number in numbers:\n",
        "        sumOfNumbers += number\n",
        "    if (sumOfNumbers >= sumOfMeans - 29 and sumOfNumbers <= sumOfMeans + 29):\n",
        "        return \"In Range\"\n",
        "    else:\n",
        "        return \"Out of Range\"    \n",
        "\n",
        "\n",
        "def visualizeInRangeCombination():\n",
        "    in_range = {}\n",
        "    numbers = []\n",
        "    \n",
        "    for index, draw in lottery.iterrows():\n",
        "            numbers.append(int(draw['Ball 1']))\n",
        "            numbers.append(int(draw['Ball 2']))\n",
        "            numbers.append(int(draw['Ball 3']))\n",
        "            numbers.append(int(draw['Ball 4']))\n",
        "            numbers.append(int(draw['Ball 5']))\n",
        "            numbers.append(int(draw['Ball 6']))\n",
        "            in_range[isNumbersInRange(numbers)] = in_range.get(isNumbersInRange(numbers), 0) + 1 \n",
        "            numbers = []\n",
        "\n",
        "    in_range_ser = pd.Series(in_range)\n",
        "\n",
        "    labels = in_range.keys()\n",
        "    sizes = list(in_range.values())\n",
        "    sizes = [x / float(len(lottery)) * 100 for x in sizes]\n",
        "    fig1, ax1 = plt.subplots(figsize=(15, 6))\n",
        "    colors = [\"#E4665C\", \"#F9B189\"]\n",
        "    ax1.pie(sizes, labels=labels, shadow=True, colors=colors)\n",
        "    plt.title(\"Jackpot Sum between \" + str(sumOfMeans - 29) + \" and \" + str(int(sumOfMeans + 29)))\n",
        "    plt.legend( loc = 'lower right', labels=['%s, %1.2f %%' % (l, s) for l, s in zip(labels, sizes)])\n",
        "    ax1.axis('equal')\n",
        "\n",
        "    \n",
        "\n",
        "visualizeInRangeCombination()"
      ],
      "metadata": {
        "colab": {
          "base_uri": "https://localhost:8080/",
          "height": 373
        },
        "id": "EB1wVNCdmqCr",
        "outputId": "cfd00c57-e7d2-4883-a820-bc0b81eea3a2"
      },
      "execution_count": 39,
      "outputs": [
        {
          "output_type": "display_data",
          "data": {
            "text/plain": [
              "<Figure size 1080x432 with 1 Axes>"
            ],
            "image/png": "[encoded data removed]"
          },
          "metadata": {}
        }
      ]
    },
    {
      "cell_type": "markdown",
      "source": [
        "if you choose to take 6 number whose sum will be between 100 and 158. That does not mean that you'll hit the jackpot 70% of the times. What that means is that 70% out of the jackpot is made out of 6 numbers whose sum falls between 100 and 158."
      ],
      "metadata": {
        "id": "PZQa9eHEoCv9"
      }
    },
    {
      "cell_type": "markdown",
      "source": [
        "### DO NOT PICK ALL THREE METHODS TOGETHER!\n",
        "P(A ∩ B ∩ C) = P(A) x P(B|A) x P(C|A ∩ B) ==> The more events you take into consideration the lesser your probabilty"
      ],
      "metadata": {
        "id": "viPq_w3IoTqP"
      }
    },
    {
      "cell_type": "markdown",
      "metadata": {
        "id": "XAOkkkFr9cDK"
      },
      "source": [
        "# Prediction"
      ]
    },
    {
      "cell_type": "code",
      "execution_count": 8,
      "metadata": {
        "colab": {
          "base_uri": "https://localhost:8080/",
          "height": 206
        },
        "id": "hTm2d0fJ9gum",
        "outputId": "306581af-326e-4b58-dd58-c217aa20e43d"
      },
      "outputs": [
        {
          "output_type": "execute_result",
          "data": {
            "text/plain": [
              "          0         1         2         3         4         5\n",
              "0  0.174248  2.013014 -1.069830 -2.368265 -1.632806 -0.960024\n",
              "1 -0.244234  1.049425 -0.773199  2.580806 -1.477196 -1.767448\n",
              "2 -0.453475 -0.395959 -0.031621  1.561879  0.856961  0.251111\n",
              "3  0.383490  0.567630 -0.179937 -0.184852 -0.232312 -0.960024\n",
              "4 -0.453475 -0.877754 -1.218146 -1.203778 -0.543533  0.856678"
            ],
            "text/html": [
              "\n",
              "  <div id=\"df-ad98a25b-1dab-48b7-9cb9-ced9564b754b\">\n",
              "    <div class=\"colab-df-container\">\n",
              "      <div>\n",
              "<style scoped>\n",
              "    .dataframe tbody tr th:only-of-type {\n",
              "        vertical-align: middle;\n",
              "    }\n",
              "\n",
              "    .dataframe tbody tr th {\n",
              "        vertical-align: top;\n",
              "    }\n",
              "\n",
              "    .dataframe thead th {\n",
              "        text-align: right;\n",
              "    }\n",
              "</style>\n",
              "<table border=\"1\" class=\"dataframe\">\n",
              "  <thead>\n",
              "    <tr style=\"text-align: right;\">\n",
              "      <th></th>\n",
              "      <th>0</th>\n",
              "      <th>1</th>\n",
              "      <th>2</th>\n",
              "      <th>3</th>\n",
              "      <th>4</th>\n",
              "      <th>5</th>\n",
              "    </tr>\n",
              "  </thead>\n",
              "  <tbody>\n",
              "    <tr>\n",
              "      <th>0</th>\n",
              "      <td>0.174248</td>\n",
              "      <td>2.013014</td>\n",
              "      <td>-1.069830</td>\n",
              "      <td>-2.368265</td>\n",
              "      <td>-1.632806</td>\n",
              "      <td>-0.960024</td>\n",
              "    </tr>\n",
              "    <tr>\n",
              "      <th>1</th>\n",
              "      <td>-0.244234</td>\n",
              "      <td>1.049425</td>\n",
              "      <td>-0.773199</td>\n",
              "      <td>2.580806</td>\n",
              "      <td>-1.477196</td>\n",
              "      <td>-1.767448</td>\n",
              "    </tr>\n",
              "    <tr>\n",
              "      <th>2</th>\n",
              "      <td>-0.453475</td>\n",
              "      <td>-0.395959</td>\n",
              "      <td>-0.031621</td>\n",
              "      <td>1.561879</td>\n",
              "      <td>0.856961</td>\n",
              "      <td>0.251111</td>\n",
              "    </tr>\n",
              "    <tr>\n",
              "      <th>3</th>\n",
              "      <td>0.383490</td>\n",
              "      <td>0.567630</td>\n",
              "      <td>-0.179937</td>\n",
              "      <td>-0.184852</td>\n",
              "      <td>-0.232312</td>\n",
              "      <td>-0.960024</td>\n",
              "    </tr>\n",
              "    <tr>\n",
              "      <th>4</th>\n",
              "      <td>-0.453475</td>\n",
              "      <td>-0.877754</td>\n",
              "      <td>-1.218146</td>\n",
              "      <td>-1.203778</td>\n",
              "      <td>-0.543533</td>\n",
              "      <td>0.856678</td>\n",
              "    </tr>\n",
              "  </tbody>\n",
              "</table>\n",
              "</div>\n",
              "      <button class=\"colab-df-convert\" onclick=\"convertToInteractive('df-ad98a25b-1dab-48b7-9cb9-ced9564b754b')\"\n",
              "              title=\"Convert this dataframe to an interactive table.\"\n",
              "              style=\"display:none;\">\n",
              "        \n",
              "  <svg xmlns=\"http://www.w3.org/2000/svg\" height=\"24px\"viewBox=\"0 0 24 24\"\n",
              "       width=\"24px\">\n",
              "    <path d=\"M0 0h24v24H0V0z\" fill=\"none\"/>\n",
              "    <path d=\"M18.56 5.44l.94 2.06.94-2.06 2.06-.94-2.06-.94-.94-2.06-.94 2.06-2.06.94zm-11 1L8.5 8.5l.94-2.06 2.06-.94-2.06-.94L8.5 2.5l-.94 2.06-2.06.94zm10 10l.94 2.06.94-2.06 2.06-.94-2.06-.94-.94-2.06-.94 2.06-2.06.94z\"/><path d=\"M17.41 7.96l-1.37-1.37c-.4-.4-.92-.59-1.43-.59-.52 0-1.04.2-1.43.59L10.3 9.45l-7.72 7.72c-.78.78-.78 2.05 0 2.83L4 21.41c.39.39.9.59 1.41.59.51 0 1.02-.2 1.41-.59l7.78-7.78 2.81-2.81c.8-.78.8-2.07 0-2.86zM5.41 20L4 18.59l7.72-7.72 1.47 1.35L5.41 20z\"/>\n",
              "  </svg>\n",
              "      </button>\n",
              "      \n",
              "  <style>\n",
              "    .colab-df-container {\n",
              "      display:flex;\n",
              "      flex-wrap:wrap;\n",
              "      gap: 12px;\n",
              "    }\n",
              "\n",
              "    .colab-df-convert {\n",
              "      background-color: #E8F0FE;\n",
              "      border: none;\n",
              "      border-radius: 50%;\n",
              "      cursor: pointer;\n",
              "      display: none;\n",
              "      fill: #1967D2;\n",
              "      height: 32px;\n",
              "      padding: 0 0 0 0;\n",
              "      width: 32px;\n",
              "    }\n",
              "\n",
              "    .colab-df-convert:hover {\n",
              "      background-color: #E2EBFA;\n",
              "      box-shadow: 0px 1px 2px rgba(60, 64, 67, 0.3), 0px 1px 3px 1px rgba(60, 64, 67, 0.15);\n",
              "      fill: #174EA6;\n",
              "    }\n",
              "\n",
              "    [theme=dark] .colab-df-convert {\n",
              "      background-color: #3B4455;\n",
              "      fill: #D2E3FC;\n",
              "    }\n",
              "\n",
              "    [theme=dark] .colab-df-convert:hover {\n",
              "      background-color: #434B5C;\n",
              "      box-shadow: 0px 1px 3px 1px rgba(0, 0, 0, 0.15);\n",
              "      filter: drop-shadow(0px 1px 2px rgba(0, 0, 0, 0.3));\n",
              "      fill: #FFFFFF;\n",
              "    }\n",
              "  </style>\n",
              "\n",
              "      <script>\n",
              "        const buttonEl =\n",
              "          document.querySelector('#df-ad98a25b-1dab-48b7-9cb9-ced9564b754b button.colab-df-convert');\n",
              "        buttonEl.style.display =\n",
              "          google.colab.kernel.accessAllowed ? 'block' : 'none';\n",
              "\n",
              "        async function convertToInteractive(key) {\n",
              "          const element = document.querySelector('#df-ad98a25b-1dab-48b7-9cb9-ced9564b754b');\n",
              "          const dataTable =\n",
              "            await google.colab.kernel.invokeFunction('convertToInteractive',\n",
              "                                                     [key], {});\n",
              "          if (!dataTable) return;\n",
              "\n",
              "          const docLinkHtml = 'Like what you see? Visit the ' +\n",
              "            '<a target=\"_blank\" href=https://colab.research.google.com/notebooks/data_table.ipynb>data table notebook</a>'\n",
              "            + ' to learn more about interactive tables.';\n",
              "          element.innerHTML = '';\n",
              "          dataTable['output_type'] = 'display_data';\n",
              "          await google.colab.output.renderOutput(dataTable, element);\n",
              "          const docLink = document.createElement('div');\n",
              "          docLink.innerHTML = docLinkHtml;\n",
              "          element.appendChild(docLink);\n",
              "        }\n",
              "      </script>\n",
              "    </div>\n",
              "  </div>\n",
              "  "
            ]
          },
          "metadata": {},
          "execution_count": 8
        }
      ],
      "source": [
        "from sklearn.preprocessing import StandardScaler\n",
        "\n",
        "df = lottery[['Ball {}'.format(i) for i in range(1, 7)]]\n",
        "scaler = StandardScaler().fit(df.values)\n",
        "transformed_dataset = scaler.transform(df.values)\n",
        "transformed_df = pd.DataFrame(data=transformed_dataset, index=df.index)\n",
        "\n",
        "transformed_df.head()"
      ]
    },
    {
      "cell_type": "code",
      "execution_count": 9,
      "metadata": {
        "colab": {
          "base_uri": "https://localhost:8080/"
        },
        "id": "xsizX-Oia91f",
        "outputId": "bd2a76db-d244-4446-ed45-4038a8cad166"
      },
      "outputs": [
        {
          "output_type": "execute_result",
          "data": {
            "text/plain": [
              "2045"
            ]
          },
          "metadata": {},
          "execution_count": 9
        }
      ],
      "source": [
        "# All our games\n",
        "number_of_rows = df.values.shape[0]\n",
        "number_of_rows"
      ]
    },
    {
      "cell_type": "code",
      "execution_count": 10,
      "metadata": {
        "colab": {
          "base_uri": "https://localhost:8080/"
        },
        "id": "VzcRgZ2ka_rB",
        "outputId": "8078d96c-3289-43f5-bc54-2269336bc9f4"
      },
      "outputs": [
        {
          "output_type": "execute_result",
          "data": {
            "text/plain": [
              "7"
            ]
          },
          "metadata": {},
          "execution_count": 10
        }
      ],
      "source": [
        "# Amount of games we need to take into consideration for prediction\n",
        "window_length = 7\n",
        "window_length"
      ]
    },
    {
      "cell_type": "code",
      "execution_count": 11,
      "metadata": {
        "colab": {
          "base_uri": "https://localhost:8080/"
        },
        "id": "GCsq4DltbBIw",
        "outputId": "3960363a-7054-48a5-b019-df4717b29a19"
      },
      "outputs": [
        {
          "output_type": "execute_result",
          "data": {
            "text/plain": [
              "6"
            ]
          },
          "metadata": {},
          "execution_count": 11
        }
      ],
      "source": [
        "# Balls counts\n",
        "number_of_features = df.values.shape[1]\n",
        "number_of_features"
      ]
    },
    {
      "cell_type": "code",
      "execution_count": 12,
      "metadata": {
        "id": "0d8-1CFibDSN"
      },
      "outputs": [],
      "source": [
        "X = np.empty([ number_of_rows - window_length, window_length, number_of_features], dtype=float)\n",
        "y = np.empty([ number_of_rows - window_length, number_of_features], dtype=float)\n",
        "for i in range(0, number_of_rows-window_length):\n",
        "    X[i] = transformed_df.iloc[i : i+window_length, 0 : number_of_features]\n",
        "    y[i] = transformed_df.iloc[i+window_length : i+window_length+1, 0 : number_of_features]"
      ]
    },
    {
      "cell_type": "code",
      "execution_count": 13,
      "metadata": {
        "colab": {
          "base_uri": "https://localhost:8080/"
        },
        "id": "fvCh58InbHWQ",
        "outputId": "5f0f67aa-b274-4a90-c109-480056f75b4b"
      },
      "outputs": [
        {
          "output_type": "execute_result",
          "data": {
            "text/plain": [
              "((2038, 7, 6), (2038, 6))"
            ]
          },
          "metadata": {},
          "execution_count": 13
        }
      ],
      "source": [
        "X.shape, y.shape"
      ]
    },
    {
      "cell_type": "code",
      "execution_count": 14,
      "metadata": {
        "colab": {
          "base_uri": "https://localhost:8080/"
        },
        "id": "ElBucth8bPgi",
        "outputId": "6120b1cd-b352-497b-da47-08d14079d529"
      },
      "outputs": [
        {
          "output_type": "execute_result",
          "data": {
            "text/plain": [
              "(array([[ 0.17424833,  2.01301405, -1.06983048, -2.36826525, -1.63280629,\n",
              "         -0.96002447],\n",
              "        [-0.24423415,  1.04942483, -0.77319929,  2.58080553, -1.47719585,\n",
              "         -1.76744789],\n",
              "        [-0.45347538, -0.39595899, -0.03162132,  1.56187919,  0.85696078,\n",
              "          0.25111066],\n",
              "        [ 0.38348956,  0.56763022, -0.17993691, -0.18485167, -0.23231231,\n",
              "         -0.96002447],\n",
              "        [-0.45347538, -0.8777536 , -1.21814608, -1.20377801, -0.5435332 ,\n",
              "          0.85667822],\n",
              "        [ 1.01121327,  0.24643382, -0.32825251, -0.33041258, -0.38792276,\n",
              "         -1.36373618],\n",
              "        [ 1.63893698,  0.40703202, -0.03162132,  0.25183104, -0.38792276,\n",
              "         -0.35445691]]),\n",
              " array([ 0.38348956,  0.24643382,  0.11669427, -0.33041258,  0.07890857,\n",
              "         0.0492548 ]))"
            ]
          },
          "metadata": {},
          "execution_count": 14
        }
      ],
      "source": [
        "X[0], y[0]"
      ]
    },
    {
      "cell_type": "code",
      "execution_count": 15,
      "metadata": {
        "id": "YKEAN8lmbSaO"
      },
      "outputs": [],
      "source": [
        "from tensorflow import keras\n",
        "from tensorflow.keras import layers\n",
        "\n",
        "model = keras.Sequential()\n",
        "\n",
        "model.add(layers.Bidirectional(layers.LSTM(240, input_shape = (window_length, number_of_features), return_sequences = True)))\n",
        "\n",
        "model.add(layers.Dropout(0.2))\n",
        "\n",
        "model.add(layers.Bidirectional(layers.LSTM(240, input_shape = (window_length, number_of_features), return_sequences = True)))\n",
        "\n",
        "model.add(layers.Dropout(0.2))\n",
        "\n",
        "model.add(layers.Bidirectional(layers.LSTM(240, input_shape = (window_length, number_of_features), return_sequences = True)))\n",
        "\n",
        "model.add(layers.Bidirectional(layers.LSTM(240, input_shape = (window_length, number_of_features), return_sequences = False)))\n",
        "\n",
        "model.add(layers.Dense(number_of_features))"
      ]
    },
    {
      "cell_type": "code",
      "execution_count": 16,
      "metadata": {
        "id": "vWQhXOXpcFRB"
      },
      "outputs": [],
      "source": [
        "from tensorflow.keras.optimizers import Adam\n",
        "\n",
        "model.compile(optimizer=Adam(learning_rate=0.0001), loss ='mse', metrics=['accuracy'])"
      ]
    },
    {
      "cell_type": "code",
      "execution_count": null,
      "metadata": {
        "id": "d-KQP7JTcIgA"
      },
      "outputs": [],
      "source": [
        "model.fit(x=X, y=y, batch_size=100, epochs=300, verbose=2)"
      ]
    },
    {
      "cell_type": "code",
      "execution_count": 18,
      "metadata": {
        "colab": {
          "base_uri": "https://localhost:8080/",
          "height": 300
        },
        "id": "Z_GRxr7gcKIZ",
        "outputId": "9348ecb8-135f-461b-c0ca-e3daf33a2d16"
      },
      "outputs": [
        {
          "output_type": "execute_result",
          "data": {
            "text/plain": [
              "      Ball 1  Ball 2  Ball 3  Ball 4  Ball 5  Ball 6\n",
              "2037       2      14      18      36      39      41\n",
              "2038       7       8      16      31      38      41\n",
              "2039       8      11      14      15      18      23\n",
              "2040       3      15      18      20      35      38\n",
              "2041       1       9      19      22      36      37\n",
              "2042       2      17      18      33      34      37\n",
              "2043       5       9      14      32      33      34\n",
              "2044       3       4       5      28      34      41"
            ],
            "text/html": [
              "\n",
              "  <div id=\"df-4da9e076-dd82-4425-9448-921ccb3bf9b6\">\n",
              "    <div class=\"colab-df-container\">\n",
              "      <div>\n",
              "<style scoped>\n",
              "    .dataframe tbody tr th:only-of-type {\n",
              "        vertical-align: middle;\n",
              "    }\n",
              "\n",
              "    .dataframe tbody tr th {\n",
              "        vertical-align: top;\n",
              "    }\n",
              "\n",
              "    .dataframe thead th {\n",
              "        text-align: right;\n",
              "    }\n",
              "</style>\n",
              "<table border=\"1\" class=\"dataframe\">\n",
              "  <thead>\n",
              "    <tr style=\"text-align: right;\">\n",
              "      <th></th>\n",
              "      <th>Ball 1</th>\n",
              "      <th>Ball 2</th>\n",
              "      <th>Ball 3</th>\n",
              "      <th>Ball 4</th>\n",
              "      <th>Ball 5</th>\n",
              "      <th>Ball 6</th>\n",
              "    </tr>\n",
              "  </thead>\n",
              "  <tbody>\n",
              "    <tr>\n",
              "      <th>2037</th>\n",
              "      <td>2</td>\n",
              "      <td>14</td>\n",
              "      <td>18</td>\n",
              "      <td>36</td>\n",
              "      <td>39</td>\n",
              "      <td>41</td>\n",
              "    </tr>\n",
              "    <tr>\n",
              "      <th>2038</th>\n",
              "      <td>7</td>\n",
              "      <td>8</td>\n",
              "      <td>16</td>\n",
              "      <td>31</td>\n",
              "      <td>38</td>\n",
              "      <td>41</td>\n",
              "    </tr>\n",
              "    <tr>\n",
              "      <th>2039</th>\n",
              "      <td>8</td>\n",
              "      <td>11</td>\n",
              "      <td>14</td>\n",
              "      <td>15</td>\n",
              "      <td>18</td>\n",
              "      <td>23</td>\n",
              "    </tr>\n",
              "    <tr>\n",
              "      <th>2040</th>\n",
              "      <td>3</td>\n",
              "      <td>15</td>\n",
              "      <td>18</td>\n",
              "      <td>20</td>\n",
              "      <td>35</td>\n",
              "      <td>38</td>\n",
              "    </tr>\n",
              "    <tr>\n",
              "      <th>2041</th>\n",
              "      <td>1</td>\n",
              "      <td>9</td>\n",
              "      <td>19</td>\n",
              "      <td>22</td>\n",
              "      <td>36</td>\n",
              "      <td>37</td>\n",
              "    </tr>\n",
              "    <tr>\n",
              "      <th>2042</th>\n",
              "      <td>2</td>\n",
              "      <td>17</td>\n",
              "      <td>18</td>\n",
              "      <td>33</td>\n",
              "      <td>34</td>\n",
              "      <td>37</td>\n",
              "    </tr>\n",
              "    <tr>\n",
              "      <th>2043</th>\n",
              "      <td>5</td>\n",
              "      <td>9</td>\n",
              "      <td>14</td>\n",
              "      <td>32</td>\n",
              "      <td>33</td>\n",
              "      <td>34</td>\n",
              "    </tr>\n",
              "    <tr>\n",
              "      <th>2044</th>\n",
              "      <td>3</td>\n",
              "      <td>4</td>\n",
              "      <td>5</td>\n",
              "      <td>28</td>\n",
              "      <td>34</td>\n",
              "      <td>41</td>\n",
              "    </tr>\n",
              "  </tbody>\n",
              "</table>\n",
              "</div>\n",
              "      <button class=\"colab-df-convert\" onclick=\"convertToInteractive('df-4da9e076-dd82-4425-9448-921ccb3bf9b6')\"\n",
              "              title=\"Convert this dataframe to an interactive table.\"\n",
              "              style=\"display:none;\">\n",
              "        \n",
              "  <svg xmlns=\"http://www.w3.org/2000/svg\" height=\"24px\"viewBox=\"0 0 24 24\"\n",
              "       width=\"24px\">\n",
              "    <path d=\"M0 0h24v24H0V0z\" fill=\"none\"/>\n",
              "    <path d=\"M18.56 5.44l.94 2.06.94-2.06 2.06-.94-2.06-.94-.94-2.06-.94 2.06-2.06.94zm-11 1L8.5 8.5l.94-2.06 2.06-.94-2.06-.94L8.5 2.5l-.94 2.06-2.06.94zm10 10l.94 2.06.94-2.06 2.06-.94-2.06-.94-.94-2.06-.94 2.06-2.06.94z\"/><path d=\"M17.41 7.96l-1.37-1.37c-.4-.4-.92-.59-1.43-.59-.52 0-1.04.2-1.43.59L10.3 9.45l-7.72 7.72c-.78.78-.78 2.05 0 2.83L4 21.41c.39.39.9.59 1.41.59.51 0 1.02-.2 1.41-.59l7.78-7.78 2.81-2.81c.8-.78.8-2.07 0-2.86zM5.41 20L4 18.59l7.72-7.72 1.47 1.35L5.41 20z\"/>\n",
              "  </svg>\n",
              "      </button>\n",
              "      \n",
              "  <style>\n",
              "    .colab-df-container {\n",
              "      display:flex;\n",
              "      flex-wrap:wrap;\n",
              "      gap: 12px;\n",
              "    }\n",
              "\n",
              "    .colab-df-convert {\n",
              "      background-color: #E8F0FE;\n",
              "      border: none;\n",
              "      border-radius: 50%;\n",
              "      cursor: pointer;\n",
              "      display: none;\n",
              "      fill: #1967D2;\n",
              "      height: 32px;\n",
              "      padding: 0 0 0 0;\n",
              "      width: 32px;\n",
              "    }\n",
              "\n",
              "    .colab-df-convert:hover {\n",
              "      background-color: #E2EBFA;\n",
              "      box-shadow: 0px 1px 2px rgba(60, 64, 67, 0.3), 0px 1px 3px 1px rgba(60, 64, 67, 0.15);\n",
              "      fill: #174EA6;\n",
              "    }\n",
              "\n",
              "    [theme=dark] .colab-df-convert {\n",
              "      background-color: #3B4455;\n",
              "      fill: #D2E3FC;\n",
              "    }\n",
              "\n",
              "    [theme=dark] .colab-df-convert:hover {\n",
              "      background-color: #434B5C;\n",
              "      box-shadow: 0px 1px 3px 1px rgba(0, 0, 0, 0.15);\n",
              "      filter: drop-shadow(0px 1px 2px rgba(0, 0, 0, 0.3));\n",
              "      fill: #FFFFFF;\n",
              "    }\n",
              "  </style>\n",
              "\n",
              "      <script>\n",
              "        const buttonEl =\n",
              "          document.querySelector('#df-4da9e076-dd82-4425-9448-921ccb3bf9b6 button.colab-df-convert');\n",
              "        buttonEl.style.display =\n",
              "          google.colab.kernel.accessAllowed ? 'block' : 'none';\n",
              "\n",
              "        async function convertToInteractive(key) {\n",
              "          const element = document.querySelector('#df-4da9e076-dd82-4425-9448-921ccb3bf9b6');\n",
              "          const dataTable =\n",
              "            await google.colab.kernel.invokeFunction('convertToInteractive',\n",
              "                                                     [key], {});\n",
              "          if (!dataTable) return;\n",
              "\n",
              "          const docLinkHtml = 'Like what you see? Visit the ' +\n",
              "            '<a target=\"_blank\" href=https://colab.research.google.com/notebooks/data_table.ipynb>data table notebook</a>'\n",
              "            + ' to learn more about interactive tables.';\n",
              "          element.innerHTML = '';\n",
              "          dataTable['output_type'] = 'display_data';\n",
              "          await google.colab.output.renderOutput(dataTable, element);\n",
              "          const docLink = document.createElement('div');\n",
              "          docLink.innerHTML = docLinkHtml;\n",
              "          element.appendChild(docLink);\n",
              "        }\n",
              "      </script>\n",
              "    </div>\n",
              "  </div>\n",
              "  "
            ]
          },
          "metadata": {},
          "execution_count": 18
        }
      ],
      "source": [
        "to_predict = df.tail(8)\n",
        "to_predict"
      ]
    },
    {
      "cell_type": "code",
      "execution_count": 19,
      "metadata": {
        "colab": {
          "base_uri": "https://localhost:8080/",
          "height": 359
        },
        "id": "Qp1O3qg6cLhc",
        "outputId": "b24a4e28-6e4e-4dc5-8f53-240f5bfa1804"
      },
      "outputs": [
        {
          "output_type": "stream",
          "name": "stderr",
          "text": [
            "/usr/local/lib/python3.7/dist-packages/pandas/core/frame.py:4913: SettingWithCopyWarning: \n",
            "A value is trying to be set on a copy of a slice from a DataFrame\n",
            "\n",
            "See the caveats in the documentation: https://pandas.pydata.org/pandas-docs/stable/user_guide/indexing.html#returning-a-view-versus-a-copy\n",
            "  errors=errors,\n"
          ]
        },
        {
          "output_type": "execute_result",
          "data": {
            "text/plain": [
              "      Ball 1  Ball 2  Ball 3  Ball 4  Ball 5  Ball 6\n",
              "2037       2      14      18      36      39      41\n",
              "2038       7       8      16      31      38      41\n",
              "2039       8      11      14      15      18      23\n",
              "2040       3      15      18      20      35      38\n",
              "2041       1       9      19      22      36      37\n",
              "2042       2      17      18      33      34      37\n",
              "2043       5       9      14      32      33      34"
            ],
            "text/html": [
              "\n",
              "  <div id=\"df-a75c947a-f73e-4619-8534-a2b0a484ef01\">\n",
              "    <div class=\"colab-df-container\">\n",
              "      <div>\n",
              "<style scoped>\n",
              "    .dataframe tbody tr th:only-of-type {\n",
              "        vertical-align: middle;\n",
              "    }\n",
              "\n",
              "    .dataframe tbody tr th {\n",
              "        vertical-align: top;\n",
              "    }\n",
              "\n",
              "    .dataframe thead th {\n",
              "        text-align: right;\n",
              "    }\n",
              "</style>\n",
              "<table border=\"1\" class=\"dataframe\">\n",
              "  <thead>\n",
              "    <tr style=\"text-align: right;\">\n",
              "      <th></th>\n",
              "      <th>Ball 1</th>\n",
              "      <th>Ball 2</th>\n",
              "      <th>Ball 3</th>\n",
              "      <th>Ball 4</th>\n",
              "      <th>Ball 5</th>\n",
              "      <th>Ball 6</th>\n",
              "    </tr>\n",
              "  </thead>\n",
              "  <tbody>\n",
              "    <tr>\n",
              "      <th>2037</th>\n",
              "      <td>2</td>\n",
              "      <td>14</td>\n",
              "      <td>18</td>\n",
              "      <td>36</td>\n",
              "      <td>39</td>\n",
              "      <td>41</td>\n",
              "    </tr>\n",
              "    <tr>\n",
              "      <th>2038</th>\n",
              "      <td>7</td>\n",
              "      <td>8</td>\n",
              "      <td>16</td>\n",
              "      <td>31</td>\n",
              "      <td>38</td>\n",
              "      <td>41</td>\n",
              "    </tr>\n",
              "    <tr>\n",
              "      <th>2039</th>\n",
              "      <td>8</td>\n",
              "      <td>11</td>\n",
              "      <td>14</td>\n",
              "      <td>15</td>\n",
              "      <td>18</td>\n",
              "      <td>23</td>\n",
              "    </tr>\n",
              "    <tr>\n",
              "      <th>2040</th>\n",
              "      <td>3</td>\n",
              "      <td>15</td>\n",
              "      <td>18</td>\n",
              "      <td>20</td>\n",
              "      <td>35</td>\n",
              "      <td>38</td>\n",
              "    </tr>\n",
              "    <tr>\n",
              "      <th>2041</th>\n",
              "      <td>1</td>\n",
              "      <td>9</td>\n",
              "      <td>19</td>\n",
              "      <td>22</td>\n",
              "      <td>36</td>\n",
              "      <td>37</td>\n",
              "    </tr>\n",
              "    <tr>\n",
              "      <th>2042</th>\n",
              "      <td>2</td>\n",
              "      <td>17</td>\n",
              "      <td>18</td>\n",
              "      <td>33</td>\n",
              "      <td>34</td>\n",
              "      <td>37</td>\n",
              "    </tr>\n",
              "    <tr>\n",
              "      <th>2043</th>\n",
              "      <td>5</td>\n",
              "      <td>9</td>\n",
              "      <td>14</td>\n",
              "      <td>32</td>\n",
              "      <td>33</td>\n",
              "      <td>34</td>\n",
              "    </tr>\n",
              "  </tbody>\n",
              "</table>\n",
              "</div>\n",
              "      <button class=\"colab-df-convert\" onclick=\"convertToInteractive('df-a75c947a-f73e-4619-8534-a2b0a484ef01')\"\n",
              "              title=\"Convert this dataframe to an interactive table.\"\n",
              "              style=\"display:none;\">\n",
              "        \n",
              "  <svg xmlns=\"http://www.w3.org/2000/svg\" height=\"24px\"viewBox=\"0 0 24 24\"\n",
              "       width=\"24px\">\n",
              "    <path d=\"M0 0h24v24H0V0z\" fill=\"none\"/>\n",
              "    <path d=\"M18.56 5.44l.94 2.06.94-2.06 2.06-.94-2.06-.94-.94-2.06-.94 2.06-2.06.94zm-11 1L8.5 8.5l.94-2.06 2.06-.94-2.06-.94L8.5 2.5l-.94 2.06-2.06.94zm10 10l.94 2.06.94-2.06 2.06-.94-2.06-.94-.94-2.06-.94 2.06-2.06.94z\"/><path d=\"M17.41 7.96l-1.37-1.37c-.4-.4-.92-.59-1.43-.59-.52 0-1.04.2-1.43.59L10.3 9.45l-7.72 7.72c-.78.78-.78 2.05 0 2.83L4 21.41c.39.39.9.59 1.41.59.51 0 1.02-.2 1.41-.59l7.78-7.78 2.81-2.81c.8-.78.8-2.07 0-2.86zM5.41 20L4 18.59l7.72-7.72 1.47 1.35L5.41 20z\"/>\n",
              "  </svg>\n",
              "      </button>\n",
              "      \n",
              "  <style>\n",
              "    .colab-df-container {\n",
              "      display:flex;\n",
              "      flex-wrap:wrap;\n",
              "      gap: 12px;\n",
              "    }\n",
              "\n",
              "    .colab-df-convert {\n",
              "      background-color: #E8F0FE;\n",
              "      border: none;\n",
              "      border-radius: 50%;\n",
              "      cursor: pointer;\n",
              "      display: none;\n",
              "      fill: #1967D2;\n",
              "      height: 32px;\n",
              "      padding: 0 0 0 0;\n",
              "      width: 32px;\n",
              "    }\n",
              "\n",
              "    .colab-df-convert:hover {\n",
              "      background-color: #E2EBFA;\n",
              "      box-shadow: 0px 1px 2px rgba(60, 64, 67, 0.3), 0px 1px 3px 1px rgba(60, 64, 67, 0.15);\n",
              "      fill: #174EA6;\n",
              "    }\n",
              "\n",
              "    [theme=dark] .colab-df-convert {\n",
              "      background-color: #3B4455;\n",
              "      fill: #D2E3FC;\n",
              "    }\n",
              "\n",
              "    [theme=dark] .colab-df-convert:hover {\n",
              "      background-color: #434B5C;\n",
              "      box-shadow: 0px 1px 3px 1px rgba(0, 0, 0, 0.15);\n",
              "      filter: drop-shadow(0px 1px 2px rgba(0, 0, 0, 0.3));\n",
              "      fill: #FFFFFF;\n",
              "    }\n",
              "  </style>\n",
              "\n",
              "      <script>\n",
              "        const buttonEl =\n",
              "          document.querySelector('#df-a75c947a-f73e-4619-8534-a2b0a484ef01 button.colab-df-convert');\n",
              "        buttonEl.style.display =\n",
              "          google.colab.kernel.accessAllowed ? 'block' : 'none';\n",
              "\n",
              "        async function convertToInteractive(key) {\n",
              "          const element = document.querySelector('#df-a75c947a-f73e-4619-8534-a2b0a484ef01');\n",
              "          const dataTable =\n",
              "            await google.colab.kernel.invokeFunction('convertToInteractive',\n",
              "                                                     [key], {});\n",
              "          if (!dataTable) return;\n",
              "\n",
              "          const docLinkHtml = 'Like what you see? Visit the ' +\n",
              "            '<a target=\"_blank\" href=https://colab.research.google.com/notebooks/data_table.ipynb>data table notebook</a>'\n",
              "            + ' to learn more about interactive tables.';\n",
              "          element.innerHTML = '';\n",
              "          dataTable['output_type'] = 'display_data';\n",
              "          await google.colab.output.renderOutput(dataTable, element);\n",
              "          const docLink = document.createElement('div');\n",
              "          docLink.innerHTML = docLinkHtml;\n",
              "          element.appendChild(docLink);\n",
              "        }\n",
              "      </script>\n",
              "    </div>\n",
              "  </div>\n",
              "  "
            ]
          },
          "metadata": {},
          "execution_count": 19
        }
      ],
      "source": [
        "to_predict.drop([to_predict.index[-1]],axis=0, inplace=True)\n",
        "to_predict"
      ]
    },
    {
      "cell_type": "code",
      "execution_count": 20,
      "metadata": {
        "colab": {
          "base_uri": "https://localhost:8080/"
        },
        "id": "9ObO2-WJcPol",
        "outputId": "9b500f13-04c7-4b16-80fe-046b4a1116fa"
      },
      "outputs": [
        {
          "output_type": "execute_result",
          "data": {
            "text/plain": [
              "array([[ 2, 14, 18, 36, 39, 41],\n",
              "       [ 7,  8, 16, 31, 38, 41],\n",
              "       [ 8, 11, 14, 15, 18, 23],\n",
              "       [ 3, 15, 18, 20, 35, 38],\n",
              "       [ 1,  9, 19, 22, 36, 37],\n",
              "       [ 2, 17, 18, 33, 34, 37],\n",
              "       [ 5,  9, 14, 32, 33, 34]])"
            ]
          },
          "metadata": {},
          "execution_count": 20
        }
      ],
      "source": [
        "to_predict = np.array(to_predict)\n",
        "to_predict"
      ]
    },
    {
      "cell_type": "code",
      "execution_count": 21,
      "metadata": {
        "colab": {
          "base_uri": "https://localhost:8080/",
          "height": 81
        },
        "id": "hZjqBm2acdvo",
        "outputId": "2d627895-6e3b-4694-884f-670028424b33"
      },
      "outputs": [
        {
          "output_type": "execute_result",
          "data": {
            "text/plain": [
              "      Ball 1  Ball 2  Ball 3  Ball 4  Ball 5  Ball 6\n",
              "2044       3       4       5      28      34      41"
            ],
            "text/html": [
              "\n",
              "  <div id=\"df-1e0c27bd-a8a9-44b5-aa43-0cd189987e88\">\n",
              "    <div class=\"colab-df-container\">\n",
              "      <div>\n",
              "<style scoped>\n",
              "    .dataframe tbody tr th:only-of-type {\n",
              "        vertical-align: middle;\n",
              "    }\n",
              "\n",
              "    .dataframe tbody tr th {\n",
              "        vertical-align: top;\n",
              "    }\n",
              "\n",
              "    .dataframe thead th {\n",
              "        text-align: right;\n",
              "    }\n",
              "</style>\n",
              "<table border=\"1\" class=\"dataframe\">\n",
              "  <thead>\n",
              "    <tr style=\"text-align: right;\">\n",
              "      <th></th>\n",
              "      <th>Ball 1</th>\n",
              "      <th>Ball 2</th>\n",
              "      <th>Ball 3</th>\n",
              "      <th>Ball 4</th>\n",
              "      <th>Ball 5</th>\n",
              "      <th>Ball 6</th>\n",
              "    </tr>\n",
              "  </thead>\n",
              "  <tbody>\n",
              "    <tr>\n",
              "      <th>2044</th>\n",
              "      <td>3</td>\n",
              "      <td>4</td>\n",
              "      <td>5</td>\n",
              "      <td>28</td>\n",
              "      <td>34</td>\n",
              "      <td>41</td>\n",
              "    </tr>\n",
              "  </tbody>\n",
              "</table>\n",
              "</div>\n",
              "      <button class=\"colab-df-convert\" onclick=\"convertToInteractive('df-1e0c27bd-a8a9-44b5-aa43-0cd189987e88')\"\n",
              "              title=\"Convert this dataframe to an interactive table.\"\n",
              "              style=\"display:none;\">\n",
              "        \n",
              "  <svg xmlns=\"http://www.w3.org/2000/svg\" height=\"24px\"viewBox=\"0 0 24 24\"\n",
              "       width=\"24px\">\n",
              "    <path d=\"M0 0h24v24H0V0z\" fill=\"none\"/>\n",
              "    <path d=\"M18.56 5.44l.94 2.06.94-2.06 2.06-.94-2.06-.94-.94-2.06-.94 2.06-2.06.94zm-11 1L8.5 8.5l.94-2.06 2.06-.94-2.06-.94L8.5 2.5l-.94 2.06-2.06.94zm10 10l.94 2.06.94-2.06 2.06-.94-2.06-.94-.94-2.06-.94 2.06-2.06.94z\"/><path d=\"M17.41 7.96l-1.37-1.37c-.4-.4-.92-.59-1.43-.59-.52 0-1.04.2-1.43.59L10.3 9.45l-7.72 7.72c-.78.78-.78 2.05 0 2.83L4 21.41c.39.39.9.59 1.41.59.51 0 1.02-.2 1.41-.59l7.78-7.78 2.81-2.81c.8-.78.8-2.07 0-2.86zM5.41 20L4 18.59l7.72-7.72 1.47 1.35L5.41 20z\"/>\n",
              "  </svg>\n",
              "      </button>\n",
              "      \n",
              "  <style>\n",
              "    .colab-df-container {\n",
              "      display:flex;\n",
              "      flex-wrap:wrap;\n",
              "      gap: 12px;\n",
              "    }\n",
              "\n",
              "    .colab-df-convert {\n",
              "      background-color: #E8F0FE;\n",
              "      border: none;\n",
              "      border-radius: 50%;\n",
              "      cursor: pointer;\n",
              "      display: none;\n",
              "      fill: #1967D2;\n",
              "      height: 32px;\n",
              "      padding: 0 0 0 0;\n",
              "      width: 32px;\n",
              "    }\n",
              "\n",
              "    .colab-df-convert:hover {\n",
              "      background-color: #E2EBFA;\n",
              "      box-shadow: 0px 1px 2px rgba(60, 64, 67, 0.3), 0px 1px 3px 1px rgba(60, 64, 67, 0.15);\n",
              "      fill: #174EA6;\n",
              "    }\n",
              "\n",
              "    [theme=dark] .colab-df-convert {\n",
              "      background-color: #3B4455;\n",
              "      fill: #D2E3FC;\n",
              "    }\n",
              "\n",
              "    [theme=dark] .colab-df-convert:hover {\n",
              "      background-color: #434B5C;\n",
              "      box-shadow: 0px 1px 3px 1px rgba(0, 0, 0, 0.15);\n",
              "      filter: drop-shadow(0px 1px 2px rgba(0, 0, 0, 0.3));\n",
              "      fill: #FFFFFF;\n",
              "    }\n",
              "  </style>\n",
              "\n",
              "      <script>\n",
              "        const buttonEl =\n",
              "          document.querySelector('#df-1e0c27bd-a8a9-44b5-aa43-0cd189987e88 button.colab-df-convert');\n",
              "        buttonEl.style.display =\n",
              "          google.colab.kernel.accessAllowed ? 'block' : 'none';\n",
              "\n",
              "        async function convertToInteractive(key) {\n",
              "          const element = document.querySelector('#df-1e0c27bd-a8a9-44b5-aa43-0cd189987e88');\n",
              "          const dataTable =\n",
              "            await google.colab.kernel.invokeFunction('convertToInteractive',\n",
              "                                                     [key], {});\n",
              "          if (!dataTable) return;\n",
              "\n",
              "          const docLinkHtml = 'Like what you see? Visit the ' +\n",
              "            '<a target=\"_blank\" href=https://colab.research.google.com/notebooks/data_table.ipynb>data table notebook</a>'\n",
              "            + ' to learn more about interactive tables.';\n",
              "          element.innerHTML = '';\n",
              "          dataTable['output_type'] = 'display_data';\n",
              "          await google.colab.output.renderOutput(dataTable, element);\n",
              "          const docLink = document.createElement('div');\n",
              "          docLink.innerHTML = docLinkHtml;\n",
              "          element.appendChild(docLink);\n",
              "        }\n",
              "      </script>\n",
              "    </div>\n",
              "  </div>\n",
              "  "
            ]
          },
          "metadata": {},
          "execution_count": 21
        }
      ],
      "source": [
        "prediction = df.tail(1)\n",
        "prediction"
      ]
    },
    {
      "cell_type": "code",
      "execution_count": 22,
      "metadata": {
        "colab": {
          "base_uri": "https://localhost:8080/"
        },
        "id": "NEO8EGhIcZgr",
        "outputId": "0d9f6cd5-7bed-4402-8d63-4b568c8632c2"
      },
      "outputs": [
        {
          "output_type": "execute_result",
          "data": {
            "text/plain": [
              "array([[-0.87195786,  0.24643382, -0.03162132,  1.7074401 ,  1.32379211,\n",
              "         0.85667822],\n",
              "       [ 0.17424833, -0.7171554 , -0.32825251,  0.97963557,  1.16818167,\n",
              "         0.85667822],\n",
              "       [ 0.38348956, -0.23536079, -0.6248837 , -1.34933891, -1.94402718,\n",
              "        -2.77672716],\n",
              "       [-0.66271662,  0.40703202, -0.03162132, -0.62153439,  0.70135034,\n",
              "         0.25111066],\n",
              "       [-1.0811991 , -0.55655719,  0.11669427, -0.33041258,  0.85696078,\n",
              "         0.0492548 ],\n",
              "       [-0.87195786,  0.72822843, -0.03162132,  1.27075738,  0.5457399 ,\n",
              "         0.0492548 ],\n",
              "       [-0.24423415, -0.55655719, -0.6248837 ,  1.12519647,  0.39012946,\n",
              "        -0.55631276]])"
            ]
          },
          "metadata": {},
          "execution_count": 22
        }
      ],
      "source": [
        "scaled_to_predict = scaler.transform(to_predict)\n",
        "scaled_to_predict"
      ]
    },
    {
      "cell_type": "code",
      "execution_count": 23,
      "metadata": {
        "colab": {
          "base_uri": "https://localhost:8080/"
        },
        "id": "Q5B19eNRcRz8",
        "outputId": "f74474a2-7449-433b-effa-50fd2583f90f"
      },
      "outputs": [
        {
          "output_type": "stream",
          "name": "stdout",
          "text": [
            "The predicted numbers in the last lottery game are: [ 3  4  5 28 34 41]\n"
          ]
        }
      ],
      "source": [
        "y_pred = model.predict(np.array([scaled_to_predict]))\n",
        "print(\"The predicted numbers in the last lottery game are:\", scaler.inverse_transform(y_pred).astype(int)[0])"
      ]
    },
    {
      "cell_type": "code",
      "execution_count": 24,
      "metadata": {
        "colab": {
          "base_uri": "https://localhost:8080/"
        },
        "id": "m9ReHhXicUXm",
        "outputId": "e0c2a218-f9bb-4d16-aaf9-217adf58118c"
      },
      "outputs": [
        {
          "output_type": "stream",
          "name": "stdout",
          "text": [
            "The actual numbers in the last lottery game were: [ 3  4  5 28 34 41]\n"
          ]
        }
      ],
      "source": [
        "prediction = np.array(prediction)\n",
        "print(\"The actual numbers in the last lottery game were:\", prediction[0])"
      ]
    }
  ],
  "metadata": {
    "accelerator": "GPU",
    "colab": {
      "collapsed_sections": [],
      "provenance": [],
      "authorship_tag": "ABX9TyPS0F9+jkTDo+duN0xZS98U",
      "include_colab_link": true
    },
    "gpuClass": "standard",
    "kernelspec": {
      "display_name": "Python 3",
      "name": "python3"
    },
    "language_info": {
      "name": "python"
    }
  },
  "nbformat": 4,
  "nbformat_minor": 0
}